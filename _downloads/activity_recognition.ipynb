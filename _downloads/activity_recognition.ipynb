{
  "nbformat_minor": 0, 
  "nbformat": 4, 
  "cells": [
    {
      "execution_count": null, 
      "cell_type": "code", 
      "source": [
        "%matplotlib inline"
      ], 
      "outputs": [], 
      "metadata": {
        "collapsed": false
      }
    }, 
    {
      "source": [
        "\nActivity recognition from accelerometer data\n============================================\n\nThis demo shows how the **sklearn-xarray** package works with the ``Pipeline``\nand ``GridSearchCV`` methods from scikit-learn providing a metadata-aware\ngrid-searchable pipeline mechansism.\n\nThe package combines the metadata-handling capabilities of xarray with the\nmachine-learning framework of sklearn. It enables the user to apply\npreprocessing steps group by group, use transformers that change the number\nof samples, use metadata directly as labels for classification tasks and more.\n\nThe example performs activity recognition from raw accelerometer data with a\nfeedforward neural network. It uses the `WISDM activity prediction dataset`__\nwhich contains the activities\nwalking, jogging, walking upstairs, walking downstairs, sitting and standing\nfrom 36 different subjects.\n\n\n__ WISDM_\n\n"
      ], 
      "cell_type": "markdown", 
      "metadata": {}
    }, 
    {
      "execution_count": null, 
      "cell_type": "code", 
      "source": [
        "from sklearn_xarray import wrap, Target\nfrom sklearn_xarray.preprocessing import (Splitter, Sanitizer, Featurizer)\nfrom sklearn_xarray.model_selection import CrossValidatorWrapper\nfrom sklearn_xarray.data import load_wisdm_dataarray\n\nfrom sklearn.preprocessing import StandardScaler, LabelBinarizer\nfrom sklearn.neural_network import MLPClassifier\nfrom sklearn.model_selection import GroupShuffleSplit, GridSearchCV\nfrom sklearn.pipeline import Pipeline\n\n\n# First, we load the dataset.\n\nX = load_wisdm_dataarray()\n\n# Then we define a pipeline with various preprocessing steps and a classifier.\n#\n# The preprocessing consists of splitting the data into segments, removing\n# segments with `nan` values and standardizing. Since the accelerometer data is\n# three-dimensional but the standardizer and classifier expect a one-dimensional\n# feature vector, we have to vectorize the samples.\n#\n# Finally, we use a feedforward neural network to perform the classification.\n\npl = Pipeline([\n    ('splitter', Splitter(\n        groupby=['subject', 'activity'], new_dim='timepoints')),\n    ('sanitizer', Sanitizer()),\n    ('featurizer', Featurizer()),\n    ('scaler', wrap(StandardScaler)),\n    ('mlp', wrap(MLPClassifier, reshapes='features'))\n])\n\n# Since we want to use cross-validated grid search to find the best model\n# parameters, we define a cross-validator. In order to make sure the model\n# performs subject-independent recognition, we use a `GroupShuffleSplit`\n# cross-validator that ensures that the same subject will not appear in both\n# training and validation set.\n\ncv = CrossValidatorWrapper(\n    GroupShuffleSplit(n_splits=3, test_size=0.3), groupby=['subject'])\n\n# The grid search will try different combinations of segment length and\n# neural network layers to find the best parameters for this task.\n\ngs = GridSearchCV(\n    pl, cv=cv, verbose=3, param_grid={\n        'splitter__new_len': [30, 60],\n        'mlp__hidden_layer_sizes': [(100,), (100, 50)]\n    })\n\n# The label to classify is the activity which we convert to a binary\n# representation for the classification.\n\ny = Target('activity', LabelBinarizer(), dim='sample')(X)\n\n# Finally, we run the grid search.\n\ngs.fit(X, y)"
      ], 
      "outputs": [], 
      "metadata": {
        "collapsed": false
      }
    }
  ], 
  "metadata": {
    "kernelspec": {
      "display_name": "Python 2", 
      "name": "python2", 
      "language": "python"
    }, 
    "language_info": {
      "mimetype": "text/x-python", 
      "nbconvert_exporter": "python", 
      "name": "python", 
      "file_extension": ".py", 
      "version": "2.7.11", 
      "pygments_lexer": "ipython2", 
      "codemirror_mode": {
        "version": 2, 
        "name": "ipython"
      }
    }
  }
}